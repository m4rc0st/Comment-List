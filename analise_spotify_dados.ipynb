{
  "nbformat": 4,
  "nbformat_minor": 0,
  "metadata": {
    "colab": {
      "provenance": [],
      "authorship_tag": "ABX9TyP46hmJM2qatTtMaQOPc0Ds",
      "include_colab_link": true
    },
    "kernelspec": {
      "name": "python3",
      "display_name": "Python 3"
    },
    "language_info": {
      "name": "python"
    }
  },
  "cells": [
    {
      "cell_type": "markdown",
      "metadata": {
        "id": "view-in-github",
        "colab_type": "text"
      },
      "source": [
        "<a href=\"https://colab.research.google.com/github/m4rc0st/Comment-List/blob/main/analise_spotify_dados.ipynb\" target=\"_parent\"><img src=\"https://colab.research.google.com/assets/colab-badge.svg\" alt=\"Open In Colab\"/></a>"
      ]
    },
    {
      "cell_type": "markdown",
      "source": [
        "## 1. Introdução"
      ],
      "metadata": {
        "id": "QjMMZNwLpdsW"
      }
    },
    {
      "cell_type": "markdown",
      "source": [
        "A análise abaixo foi feita utilizando dados de faixas do Spotify em uma variedade de 125 gêneros diferentes. Cada faixa tem alguns recursos de áudio associados a ela, que está disponível no site [Kangle](https://www.kaggle.com/datasets/maharshipandya/-spotify-tracks-dataset?select=dataset.csv)."
      ],
      "metadata": {
        "id": "23h5vIE2phO0"
      }
    },
    {
      "cell_type": "markdown",
      "source": [
        "A motivação do estudo parte de entender como essas variáveis afetam no popularidade das musícas. Mostrando-se relevante, por permitir enteder o gosto dos usuários e possibilitar a construção de um sistema de recomendação para os usuários do Spotify, com base nas suas entradas."
      ],
      "metadata": {
        "id": "zgNxGTMQpkGF"
      }
    },
    {
      "cell_type": "markdown",
      "source": [
        "**Hipóteses iniciais quanto a base utilizada:**\n",
        "1. Qual a relação das variáveis com o nível de popularidade da faixa?\n",
        "2. Há alguma tendência de variação no tempo médio das faixas ao longo dos anos?\n",
        "3. Existe uma correlação entre a energia de uma faixa e sua popularidade?  "
      ],
      "metadata": {
        "id": "vDCrZeFdpnP_"
      }
    },
    {
      "cell_type": "markdown",
      "source": [
        "### 1.1 Importando as Bibliotecas"
      ],
      "metadata": {
        "id": "RzNbT9lKpsqA"
      }
    },
    {
      "cell_type": "code",
      "execution_count": null,
      "metadata": {
        "id": "oU4r21H7pZ6K"
      },
      "outputs": [],
      "source": [
        "import pandas as pd\n",
        "import numpy as np\n",
        "\n",
        "import matplotlib.pyplot as plt\n",
        "import seaborn as sb\n",
        "\n",
        "plt.style.use('ggplot')"
      ]
    },
    {
      "cell_type": "markdown",
      "source": [
        "### 1.2 Carregando o Dataset"
      ],
      "metadata": {
        "id": "oxgjNnLprB38"
      }
    },
    {
      "cell_type": "code",
      "source": [
        "# importando o arquivo de músicas\n",
        "df = pd.read_csv('/content/dataset.csv', low_memory = False)\n",
        "df.head()"
      ],
      "metadata": {
        "id": "9qKMJvhlq98k"
      },
      "execution_count": null,
      "outputs": []
    },
    {
      "cell_type": "code",
      "source": [
        "df.info()"
      ],
      "metadata": {
        "id": "Rf7hLS_orHUG"
      },
      "execution_count": null,
      "outputs": []
    },
    {
      "cell_type": "markdown",
      "source": [
        "1.2.1 Limpando o Dataset"
      ],
      "metadata": {
        "id": "bBY-F8pqrJ-6"
      }
    },
    {
      "cell_type": "markdown",
      "source": [
        "Remover os dados nulos, também conhecidos como valores ausentes ou NaN (Not a Number), do conjunto de dados é uma etapa comum na limpeza de dados. Essa etapa é realizada para manter a integridade dos dados, evitar erros na análise e possíveis interpretações."
      ],
      "metadata": {
        "id": "Unicci6nrg_r"
      }
    },
    {
      "cell_type": "code",
      "source": [
        "# contando valores ausentes\n",
        "df.isna().sum()"
      ],
      "metadata": {
        "id": "OTrsfC-mrRUr"
      },
      "execution_count": null,
      "outputs": []
    },
    {
      "cell_type": "code",
      "source": [
        "#verificando a localização dos valores nulos\n",
        "valores_nulos = df.loc[df.isna().any(axis=1)]\n",
        "print(valores_nulos)"
      ],
      "metadata": {
        "id": "u7rNPhO4rUSD"
      },
      "execution_count": null,
      "outputs": []
    },
    {
      "cell_type": "code",
      "source": [
        "# retirando espaços vazios\n",
        "df.dropna(inplace=True)"
      ],
      "metadata": {
        "id": "Nr5bhQZ3rY1p"
      },
      "execution_count": null,
      "outputs": []
    },
    {
      "cell_type": "markdown",
      "source": [
        "### 1.3 Análise Univariada"
      ],
      "metadata": {
        "id": "8X5FpEnMsC3v"
      }
    },
    {
      "cell_type": "markdown",
      "source": [],
      "metadata": {
        "id": "VnCw4SPSsVpU"
      }
    },
    {
      "cell_type": "code",
      "source": [
        "variaveis = ['popularity', 'duration_ms', 'danceability', 'energy', 'key', 'loudness',\n",
        "             'mode', 'speechiness', 'acousticness', 'instrumentalness', 'liveness',\n",
        "             'valence', 'tempo', 'time_signature']\n",
        "\n",
        "for variavel in variaveis:\n",
        "    plt.figure(figsize=(6, 4))\n",
        "    plt.hist(df[variavel], bins=20, color='blue', alpha=0.7)\n",
        "    plt.title(f'Histograma de {variavel}')\n",
        "    plt.xlabel(variavel)\n",
        "    plt.ylabel('Frequência')\n",
        "    plt.show()"
      ],
      "metadata": {
        "id": "6TAt49M1sSAG"
      },
      "execution_count": null,
      "outputs": []
    },
    {
      "cell_type": "code",
      "source": [
        "variaveis_objects = ['track_genre']\n",
        "\n",
        "for variavel in variaveis_objects:\n",
        "  contagem_por_categoria = df[variavel].value_counts()\n",
        "  plt.figure(figsize=(6, 4))\n",
        "  contagem_por_categoria.plot(kind='bar', color='blue')\n",
        "  plt.title(f'Distribuição da Variável: {variaveis_objects}')\n",
        "  plt.xlabel(variaveis_objects)\n",
        "  plt.ylabel('Contagem')\n",
        "  plt.xticks(rotation=45)\n",
        "  plt.show()"
      ],
      "metadata": {
        "id": "ZF5NOcf7sW3Z"
      },
      "execution_count": null,
      "outputs": []
    },
    {
      "cell_type": "code",
      "source": [
        "df['artists'].value_counts()"
      ],
      "metadata": {
        "id": "m614X_3nsak1"
      },
      "execution_count": null,
      "outputs": []
    },
    {
      "cell_type": "code",
      "source": [
        "df['track_genre'].value_counts()"
      ],
      "metadata": {
        "id": "HY37WMOIsdcv"
      },
      "execution_count": null,
      "outputs": []
    },
    {
      "cell_type": "markdown",
      "source": [
        "### 1.4 Análise Multivariável"
      ],
      "metadata": {
        "id": "Lyj_uFumtz79"
      }
    },
    {
      "cell_type": "code",
      "source": [
        "# Mapa de Calor\n",
        "musica = ['popularity', 'duration_ms', 'danceability','energy', 'key', 'loudness', 'mode', 'speechiness',\n",
        "             'acousticness', 'instrumentalness','liveness', 'valence', 'tempo','time_signature','track_genre']\n",
        "\n",
        "# matriz de correlação\n",
        "corrmat = df[musica].corr()\n",
        "\n",
        "#configurações do tamanho do plot\n",
        "fig = plt.figure(figsize = (12, 9))\n",
        "\n",
        "#masking the upper traingle part since matrix is symmetric(repetitive)\n",
        "mask = np.triu(np.ones_like(corrmat, dtype=bool))\n",
        "sb.heatmap(corrmat, vmax = .8,mask=mask, square = True, annot = True)\n",
        "plt.show()"
      ],
      "metadata": {
        "id": "AnicSt3quOo8"
      },
      "execution_count": null,
      "outputs": []
    },
    {
      "cell_type": "code",
      "source": [
        "# Exploração percentual desses valores\n",
        "plt.figure(figsize=(30,15))\n",
        "musica = ['popularity', 'duration_ms', 'danceability','energy', 'key', 'loudness', 'mode', 'speechiness',\n",
        "             'acousticness', 'instrumentalness','liveness', 'valence', 'tempo','time_signature','track_genre']\n",
        "corrMatrix = df[musica].corr()\n",
        "sb.heatmap(corrMatrix, annot=True)\n",
        "plt.show()"
      ],
      "metadata": {
        "id": "OBb1wyv0uPdK"
      },
      "execution_count": null,
      "outputs": []
    }
  ]
}